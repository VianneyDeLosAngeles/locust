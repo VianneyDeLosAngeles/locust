{
 "cells": [
  {
   "cell_type": "code",
   "execution_count": 26,
   "metadata": {},
   "outputs": [
    {
     "name": "stdout",
     "output_type": "stream",
     "text": [
      "            last_name   age  dinero\n",
      "first_name                         \n",
      "Ailbert       Risdale  22.0   223.0\n",
      "Imojean         Benet  21.0     NaN\n",
      "Michele     Woodlands  29.0   293.0\n",
      "Oralie        Fidgeon  30.0     NaN\n",
      "Stevy       MacGorman  24.0   243.0\n",
      "fd              Benet   NaN    43.0\n",
      "ppp           Fidgeon   NaN     0.0\n"
     ]
    }
   ],
   "source": [
    "import pandas as pd\n",
    "clients = {'first_name' : ['Oralie' ,'Imojean' ,'Michele', 'Ailbert', 'Stevy'],\n",
    "           'last_name' : ['Fidgeon' ,'Benet' ,'Woodlands', 'Risdale', 'MacGorman'],\n",
    "           'age' : [30 ,21 ,29 ,22, 24]}\n",
    "clients = pd.DataFrame(clients, columns = ['first_name', 'last_name', 'age'])\n",
    "\n",
    "\n",
    "\n",
    "clients2 = {'first_name' : ['ppp' ,'fd' ,'Michele', 'Ailbert', 'Stevy'],\n",
    "           'last_name' : ['Fidgeon' ,'Benet' ,'Woodlands', 'Risdale', 'MacGorman'],\n",
    "           'dinero' : [0 ,43 ,293 ,223, 243]}\n",
    "\n",
    "clients2 = pd.DataFrame(clients2, columns = ['first_name', 'last_name', 'dinero'])\n",
    "\n",
    "#print(clients)\n",
    "#print(clients2)\n",
    "\n",
    "\n",
    "union =  pd.concat([clients, clients2], axis=0)\n",
    "\n",
    "union = union.groupby('first_name').first()\n",
    "\n",
    "                 \n",
    "print(union)"
   ]
  },
  {
   "cell_type": "code",
   "execution_count": null,
   "metadata": {},
   "outputs": [],
   "source": []
  },
  {
   "cell_type": "code",
   "execution_count": null,
   "metadata": {},
   "outputs": [],
   "source": []
  },
  {
   "cell_type": "code",
   "execution_count": null,
   "metadata": {},
   "outputs": [],
   "source": []
  }
 ],
 "metadata": {
  "kernelspec": {
   "display_name": "Django Shell-Plus",
   "language": "python",
   "name": "django_extensions"
  },
  "language_info": {
   "codemirror_mode": {
    "name": "ipython",
    "version": 3
   },
   "file_extension": ".py",
   "mimetype": "text/x-python",
   "name": "python",
   "nbconvert_exporter": "python",
   "pygments_lexer": "ipython3",
   "version": "3.7.4"
  }
 },
 "nbformat": 4,
 "nbformat_minor": 2
}
