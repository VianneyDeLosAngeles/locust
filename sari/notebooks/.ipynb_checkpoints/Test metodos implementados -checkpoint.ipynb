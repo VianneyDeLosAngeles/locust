{
 "cells": [
  {
   "cell_type": "code",
   "execution_count": null,
   "metadata": {},
   "outputs": [],
   "source": [
    "#probendo los estados \n",
    "\n",
    "\n",
    "\n",
    "from Bots.models.estados import Estado \n",
    "from Bots.models.modulos import Tarea\n",
    "from datetime import datetime, timezone\n",
    "\n",
    "#res = Tarea.objects.get(nombre=\"Posteo Interfaz SAP\").id\n",
    "#print(res)\n",
    "\n",
    "ids = Estado().crear(descripcion=\"Re\", tarea=\"Posteo Interfaz SAP\", mensaje=\"\", porcentajeAvance=0)\n",
    "print(ids)\n",
    "\n",
    "res2 = Estado.objects.get(id=ids.id)\n",
    "ejecucuion = datetime.now(timezone.utc) - res2.fechaInicio\n",
    "#print(\"Fechas: \",ejecucuion, datetime.now(timezone.utc), res2.fechaInicio)\n",
    "#Estado().concluir(estado = res2)\n",
    "#print(res2.fechaInicio)\n",
    "\n",
    "\n",
    "\n",
    "\n"
   ]
  },
  {
   "cell_type": "code",
   "execution_count": null,
   "metadata": {},
   "outputs": [],
   "source": [
    "from Bots.models.modulos import Tarea\n",
    "from Bots.models.estados import Estado \n",
    "\n",
    "tarea=1\n",
    "#tarea=\"Posteo Interfaz SAP\"\n",
    "descripcion = \"\"\n",
    "\n",
    "#objTarea = Tarea.objects.get(nombre=tarea)\n",
    "\n",
    "try:\n",
    "    if descripcion:\n",
    "        estado = Estado.objects.filter(idTarea=tarea, descripcion=descripcion).latest('fechaInicio')\n",
    "    else:\n",
    "        estado = Estado.objects.filter(idTarea=tarea).latest('fechaInicio')  \n",
    "except Estado.DoesNotExist:\n",
    "    estado = None\n",
    "    \n",
    "print(estado)    "
   ]
  },
  {
   "cell_type": "code",
   "execution_count": null,
   "metadata": {},
   "outputs": [],
   "source": [
    "from datetime import datetime\n",
    "\n",
    "print(datetime.now())\n",
    "\n",
    "fecha = '03/11/2020'\n",
    "fecha_dt = datetime.strptime(fecha, '%d/%m/%Y')\n",
    "print(fecha_dt)"
   ]
  },
  {
   "cell_type": "code",
   "execution_count": 1,
   "metadata": {},
   "outputs": [
    {
     "name": "stdout",
     "output_type": "stream",
     "text": [
      "Inicia\n",
      "mensaje:  \n",
      "---------------------------------------------------------------\n",
      "True  mensaje: \n"
     ]
    }
   ],
   "source": [
    "from Ventas.models.ventasSAP import ventasSAP\n",
    "from Ventas.models.ventasASW import ventasASW\n",
    "from Ventas.models.almacenvscentrocosto import Almacencentrocosto\n",
    "import pandas as pd \n",
    "from Ventas.models.UUIDASW import UUID_ASW\n",
    "import warnings; warnings.simplefilter('ignore')\n",
    "from Ventas.models.fleteASW import Flete\n",
    "from Ventas.models.descuentosASW import Descuento \n",
    "\n",
    "\n",
    "df = pd.read_excel(\"C:\\\\Users\\\\carmina.diaz\\\\Desktop\\\\Ventas SAP dic-enero.XLSX\", sheet_name=0)\n",
    "\n",
    "#print(\"número de columnas: \", df.shape[0])\n",
    "#col_error = []\n",
    "\n",
    "#for i in range(df.shape[0]-1):\n",
    "    \n",
    "#    display(i+2,df.iloc[i,8])\n",
    "\n",
    "#col_error.append(i+2)    \n",
    "\n",
    "#print(int(df.iloc[0,1]))\n",
    "\n",
    "\n",
    "\n",
    "#ban,mensaje,ids_ventas = ventasSAP().get_fromfileFBL3N(\"C:\\\\Users\\\\carmina.diaz\\\\Desktop\\\\Ventas SAP dic-enero2.XLSX\")\n",
    "\n",
    "\n",
    "#ban,mensaje,ids_ventas = ventasSAP().get_fromfileFBL5N(\"C:\\\\Users\\\\carmina.diaz\\\\OneDrive - QUIDRH ADMINISTRACION SA DE CV\\Documents\\\\EXPORTFBL5N.XLSX\")\n",
    "\n",
    "#ban,mensaje,ids_ventas = ventasASW().get_fromfile(\"D:\\\\prueba.CSV\")\n",
    "#ban , r = Almacencentrocosto().get_fromfile(\"C:\\\\Users\\\\carmina.diaz\\\\Downloads\\\\CATALOGOS RICHEMONT.xlsx\")\n",
    "print(\"Inicia\") \n",
    "#ban,mensaje,ids_ventas = Descuento().get_fromfile(\"D:\\\\descuentors_p.csv\")\n",
    "\n",
    "ban,mensaje,ids_ventas = Flete().get_fromfile(\"D:\\\\flete3.csv\")\n",
    "\n",
    "\n",
    "print(\"---------------------------------------------------------------\")\n",
    "\n",
    "print(ban,\" mensaje: \")"
   ]
  },
  {
   "cell_type": "code",
   "execution_count": null,
   "metadata": {},
   "outputs": [],
   "source": []
  },
  {
   "cell_type": "code",
   "execution_count": null,
   "metadata": {},
   "outputs": [],
   "source": []
  }
 ],
 "metadata": {
  "kernelspec": {
   "display_name": "Django Shell-Plus",
   "language": "python",
   "name": "django_extensions"
  },
  "language_info": {
   "codemirror_mode": {
    "name": "ipython",
    "version": 3
   },
   "file_extension": ".py",
   "mimetype": "text/x-python",
   "name": "python",
   "nbconvert_exporter": "python",
   "pygments_lexer": "ipython3",
   "version": "3.7.4"
  }
 },
 "nbformat": 4,
 "nbformat_minor": 2
}
